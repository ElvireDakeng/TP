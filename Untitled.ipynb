{
 "cells": [
  {
   "cell_type": "code",
   "execution_count": 9,
   "metadata": {},
   "outputs": [],
   "source": [
    "import argparse\n",
    "\n",
    "import numpy as np\n",
    "import pandas as pd\n",
    "import yaml\n",
    "from sklearn.datasets import load_iris\n",
    "\n",
    "\n",
    "def read_params(config_path):\n",
    "    \"\"\"\n",
    "    read parameters from the params.yaml file\n",
    "    input: params.yaml location\n",
    "    output: parameters as dictionary\n",
    "    \"\"\"\n",
    "    with open(config_path) as yaml_file:\n",
    "        config = yaml.safe_load(yaml_file)\n",
    "    return config\n",
    "\n",
    "\n",
    "\n",
    "def load_raw_data(config_path):\n",
    "    \"\"\"\n",
    "    load data from external location(data/external) to the raw folder(data/raw) with train and teting dataset\n",
    "    input: config_path\n",
    "    output: save train file in data/raw folder\n",
    "    \"\"\"\n",
    "    config = read_params(config_path)\n",
    "    raw_data_path = config[\"raw_data_config\"][\"raw_data_csv\"]\n",
    "    model_var = config[\"raw_data_config\"][\"model_var\"]\n",
    "\n",
    "    df = pd.read_csv('./column_3C.csv')\n",
    "    df.to_csv(raw_data_path, index=False)\n",
    "\n",
    "\n",
    "\n"
   ]
  },
  {
   "cell_type": "code",
   "execution_count": 10,
   "metadata": {},
   "outputs": [
    {
     "name": "stderr",
     "output_type": "stream",
     "text": [
      "usage: ipykernel_launcher.py [-h] [--config CONFIG]\n",
      "ipykernel_launcher.py: error: unrecognized arguments: -f C:\\Users\\perla\\AppData\\Roaming\\jupyter\\runtime\\kernel-64df7184-dfa3-4b14-8da3-edd2625708e4.json\n"
     ]
    },
    {
     "ename": "SystemExit",
     "evalue": "2",
     "output_type": "error",
     "traceback": [
      "An exception has occurred, use %tb to see the full traceback.\n",
      "\u001b[1;31mSystemExit\u001b[0m\u001b[1;31m:\u001b[0m 2\n"
     ]
    }
   ],
   "source": [
    "if __name__ == \"__main__\":\n",
    "    args = argparse.ArgumentParser()\n",
    "    args.add_argument(\"--config\", default=\"params.yaml\")\n",
    "    parsed_args = args.parse_args()\n",
    "    load_raw_data(config_path=parsed_args.config)"
   ]
  },
  {
   "cell_type": "code",
   "execution_count": null,
   "metadata": {},
   "outputs": [],
   "source": []
  }
 ],
 "metadata": {
  "interpreter": {
   "hash": "ed803d59cb15d21c4545230b24b746a63015a9e6b031363120256358c5a614e4"
  },
  "kernelspec": {
   "display_name": "Python 3.8.3 64-bit ('base': conda)",
   "name": "python3"
  },
  "language_info": {
   "codemirror_mode": {
    "name": "ipython",
    "version": 3
   },
   "file_extension": ".py",
   "mimetype": "text/x-python",
   "name": "python",
   "nbconvert_exporter": "python",
   "pygments_lexer": "ipython3",
   "version": "3.8.3"
  }
 },
 "nbformat": 4,
 "nbformat_minor": 4
}
